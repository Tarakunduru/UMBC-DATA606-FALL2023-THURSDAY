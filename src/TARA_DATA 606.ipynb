{
 "cells": [
  {
   "cell_type": "code",
   "execution_count": 1,
   "id": "a434e2d6",
   "metadata": {},
   "outputs": [],
   "source": [
    "import pandas as pd\n",
    "import numpy as np\n",
    "import matplotlib.pyplot as plt\n",
    "import seaborn as sns\n",
    "from scipy import stats\n",
    "from sklearn.model_selection import train_test_split\n",
    "from sklearn.feature_selection import SelectKBest, chi2\n",
    "from sklearn.metrics import classification_report\n",
    "from sklearn.preprocessing import LabelEncoder\n",
    "from sklearn.ensemble import ExtraTreesClassifier\n",
    "from sklearn.svm import SVC\n",
    "from sklearn.naive_bayes import GaussianNB\n",
    "from sklearn.metrics import accuracy_score\n",
    "import pickle\n",
    "import warnings\n",
    "# Filter and ignore the specific warning\n",
    "warnings.filterwarnings(\"ignore\", category=UserWarning)\n"
   ]
  },
  {
   "cell_type": "code",
   "execution_count": 2,
   "id": "050252af",
   "metadata": {},
   "outputs": [],
   "source": [
    "hotel_data = pd.read_csv('C:\\\\Users\\\\kundu\\\\Downloads\\\\hotel_bookings_data.csv')\n"
   ]
  },
  {
   "cell_type": "code",
   "execution_count": 3,
   "id": "1e614e77",
   "metadata": {},
   "outputs": [
    {
     "data": {
      "text/html": [
       "<div>\n",
       "<style scoped>\n",
       "    .dataframe tbody tr th:only-of-type {\n",
       "        vertical-align: middle;\n",
       "    }\n",
       "\n",
       "    .dataframe tbody tr th {\n",
       "        vertical-align: top;\n",
       "    }\n",
       "\n",
       "    .dataframe thead th {\n",
       "        text-align: right;\n",
       "    }\n",
       "</style>\n",
       "<table border=\"1\" class=\"dataframe\">\n",
       "  <thead>\n",
       "    <tr style=\"text-align: right;\">\n",
       "      <th></th>\n",
       "      <th>hotel</th>\n",
       "      <th>is_canceled</th>\n",
       "      <th>lead_time</th>\n",
       "      <th>arrival_date_year</th>\n",
       "      <th>arrival_date_month</th>\n",
       "      <th>arrival_date_week_number</th>\n",
       "      <th>arrival_date_day_of_month</th>\n",
       "      <th>stays_in_weekend_nights</th>\n",
       "      <th>stays_in_week_nights</th>\n",
       "      <th>adults</th>\n",
       "      <th>...</th>\n",
       "      <th>deposit_type</th>\n",
       "      <th>agent</th>\n",
       "      <th>company</th>\n",
       "      <th>days_in_waiting_list</th>\n",
       "      <th>customer_type</th>\n",
       "      <th>adr</th>\n",
       "      <th>required_car_parking_spaces</th>\n",
       "      <th>total_of_special_requests</th>\n",
       "      <th>reservation_status</th>\n",
       "      <th>reservation_status_date</th>\n",
       "    </tr>\n",
       "  </thead>\n",
       "  <tbody>\n",
       "    <tr>\n",
       "      <th>0</th>\n",
       "      <td>Resort Hotel</td>\n",
       "      <td>0</td>\n",
       "      <td>342</td>\n",
       "      <td>2015</td>\n",
       "      <td>July</td>\n",
       "      <td>27</td>\n",
       "      <td>1</td>\n",
       "      <td>0</td>\n",
       "      <td>0</td>\n",
       "      <td>2</td>\n",
       "      <td>...</td>\n",
       "      <td>No Deposit</td>\n",
       "      <td>NaN</td>\n",
       "      <td>NaN</td>\n",
       "      <td>0</td>\n",
       "      <td>Transient</td>\n",
       "      <td>0.0</td>\n",
       "      <td>0</td>\n",
       "      <td>0</td>\n",
       "      <td>Check-Out</td>\n",
       "      <td>2015-07-01</td>\n",
       "    </tr>\n",
       "    <tr>\n",
       "      <th>1</th>\n",
       "      <td>Resort Hotel</td>\n",
       "      <td>0</td>\n",
       "      <td>737</td>\n",
       "      <td>2015</td>\n",
       "      <td>July</td>\n",
       "      <td>27</td>\n",
       "      <td>1</td>\n",
       "      <td>0</td>\n",
       "      <td>0</td>\n",
       "      <td>2</td>\n",
       "      <td>...</td>\n",
       "      <td>No Deposit</td>\n",
       "      <td>NaN</td>\n",
       "      <td>NaN</td>\n",
       "      <td>0</td>\n",
       "      <td>Transient</td>\n",
       "      <td>0.0</td>\n",
       "      <td>0</td>\n",
       "      <td>0</td>\n",
       "      <td>Check-Out</td>\n",
       "      <td>2015-07-01</td>\n",
       "    </tr>\n",
       "    <tr>\n",
       "      <th>2</th>\n",
       "      <td>Resort Hotel</td>\n",
       "      <td>0</td>\n",
       "      <td>7</td>\n",
       "      <td>2015</td>\n",
       "      <td>July</td>\n",
       "      <td>27</td>\n",
       "      <td>1</td>\n",
       "      <td>0</td>\n",
       "      <td>1</td>\n",
       "      <td>1</td>\n",
       "      <td>...</td>\n",
       "      <td>No Deposit</td>\n",
       "      <td>NaN</td>\n",
       "      <td>NaN</td>\n",
       "      <td>0</td>\n",
       "      <td>Transient</td>\n",
       "      <td>75.0</td>\n",
       "      <td>0</td>\n",
       "      <td>0</td>\n",
       "      <td>Check-Out</td>\n",
       "      <td>2015-07-02</td>\n",
       "    </tr>\n",
       "    <tr>\n",
       "      <th>3</th>\n",
       "      <td>Resort Hotel</td>\n",
       "      <td>0</td>\n",
       "      <td>13</td>\n",
       "      <td>2015</td>\n",
       "      <td>July</td>\n",
       "      <td>27</td>\n",
       "      <td>1</td>\n",
       "      <td>0</td>\n",
       "      <td>1</td>\n",
       "      <td>1</td>\n",
       "      <td>...</td>\n",
       "      <td>No Deposit</td>\n",
       "      <td>304.0</td>\n",
       "      <td>NaN</td>\n",
       "      <td>0</td>\n",
       "      <td>Transient</td>\n",
       "      <td>75.0</td>\n",
       "      <td>0</td>\n",
       "      <td>0</td>\n",
       "      <td>Check-Out</td>\n",
       "      <td>2015-07-02</td>\n",
       "    </tr>\n",
       "    <tr>\n",
       "      <th>4</th>\n",
       "      <td>Resort Hotel</td>\n",
       "      <td>0</td>\n",
       "      <td>14</td>\n",
       "      <td>2015</td>\n",
       "      <td>July</td>\n",
       "      <td>27</td>\n",
       "      <td>1</td>\n",
       "      <td>0</td>\n",
       "      <td>2</td>\n",
       "      <td>2</td>\n",
       "      <td>...</td>\n",
       "      <td>No Deposit</td>\n",
       "      <td>240.0</td>\n",
       "      <td>NaN</td>\n",
       "      <td>0</td>\n",
       "      <td>Transient</td>\n",
       "      <td>98.0</td>\n",
       "      <td>0</td>\n",
       "      <td>1</td>\n",
       "      <td>Check-Out</td>\n",
       "      <td>2015-07-03</td>\n",
       "    </tr>\n",
       "  </tbody>\n",
       "</table>\n",
       "<p>5 rows × 32 columns</p>\n",
       "</div>"
      ],
      "text/plain": [
       "          hotel  is_canceled  lead_time  arrival_date_year arrival_date_month  \\\n",
       "0  Resort Hotel            0        342               2015               July   \n",
       "1  Resort Hotel            0        737               2015               July   \n",
       "2  Resort Hotel            0          7               2015               July   \n",
       "3  Resort Hotel            0         13               2015               July   \n",
       "4  Resort Hotel            0         14               2015               July   \n",
       "\n",
       "   arrival_date_week_number  arrival_date_day_of_month  \\\n",
       "0                        27                          1   \n",
       "1                        27                          1   \n",
       "2                        27                          1   \n",
       "3                        27                          1   \n",
       "4                        27                          1   \n",
       "\n",
       "   stays_in_weekend_nights  stays_in_week_nights  adults  ...  deposit_type  \\\n",
       "0                        0                     0       2  ...    No Deposit   \n",
       "1                        0                     0       2  ...    No Deposit   \n",
       "2                        0                     1       1  ...    No Deposit   \n",
       "3                        0                     1       1  ...    No Deposit   \n",
       "4                        0                     2       2  ...    No Deposit   \n",
       "\n",
       "   agent company days_in_waiting_list customer_type   adr  \\\n",
       "0    NaN     NaN                    0     Transient   0.0   \n",
       "1    NaN     NaN                    0     Transient   0.0   \n",
       "2    NaN     NaN                    0     Transient  75.0   \n",
       "3  304.0     NaN                    0     Transient  75.0   \n",
       "4  240.0     NaN                    0     Transient  98.0   \n",
       "\n",
       "   required_car_parking_spaces  total_of_special_requests  reservation_status  \\\n",
       "0                            0                          0           Check-Out   \n",
       "1                            0                          0           Check-Out   \n",
       "2                            0                          0           Check-Out   \n",
       "3                            0                          0           Check-Out   \n",
       "4                            0                          1           Check-Out   \n",
       "\n",
       "  reservation_status_date  \n",
       "0              2015-07-01  \n",
       "1              2015-07-01  \n",
       "2              2015-07-02  \n",
       "3              2015-07-02  \n",
       "4              2015-07-03  \n",
       "\n",
       "[5 rows x 32 columns]"
      ]
     },
     "execution_count": 3,
     "metadata": {},
     "output_type": "execute_result"
    }
   ],
   "source": [
    "hotel_data.head()"
   ]
  },
  {
   "cell_type": "code",
   "execution_count": 4,
   "id": "3ccf950a",
   "metadata": {},
   "outputs": [
    {
     "data": {
      "text/plain": [
       "0         0\n",
       "1         0\n",
       "2         0\n",
       "3         0\n",
       "4         0\n",
       "         ..\n",
       "119385    0\n",
       "119386    0\n",
       "119387    0\n",
       "119388    0\n",
       "119389    0\n",
       "Name: is_canceled, Length: 119390, dtype: int64"
      ]
     },
     "execution_count": 4,
     "metadata": {},
     "output_type": "execute_result"
    }
   ],
   "source": [
    "hotel_data['is_canceled']"
   ]
  },
  {
   "cell_type": "code",
   "execution_count": 5,
   "id": "f9c6cd53",
   "metadata": {},
   "outputs": [
    {
     "name": "stdout",
     "output_type": "stream",
     "text": [
      "<class 'pandas.core.frame.DataFrame'>\n",
      "RangeIndex: 119390 entries, 0 to 119389\n",
      "Data columns (total 32 columns):\n",
      " #   Column                          Non-Null Count   Dtype  \n",
      "---  ------                          --------------   -----  \n",
      " 0   hotel                           119390 non-null  object \n",
      " 1   is_canceled                     119390 non-null  int64  \n",
      " 2   lead_time                       119390 non-null  int64  \n",
      " 3   arrival_date_year               119390 non-null  int64  \n",
      " 4   arrival_date_month              119390 non-null  object \n",
      " 5   arrival_date_week_number        119390 non-null  int64  \n",
      " 6   arrival_date_day_of_month       119390 non-null  int64  \n",
      " 7   stays_in_weekend_nights         119390 non-null  int64  \n",
      " 8   stays_in_week_nights            119390 non-null  int64  \n",
      " 9   adults                          119390 non-null  int64  \n",
      " 10  children                        119386 non-null  float64\n",
      " 11  babies                          119390 non-null  int64  \n",
      " 12  meal                            119390 non-null  object \n",
      " 13  country                         118902 non-null  object \n",
      " 14  market_segment                  119390 non-null  object \n",
      " 15  distribution_channel            119390 non-null  object \n",
      " 16  is_repeated_guest               119390 non-null  int64  \n",
      " 17  previous_cancellations          119390 non-null  int64  \n",
      " 18  previous_bookings_not_canceled  119390 non-null  int64  \n",
      " 19  reserved_room_type              119390 non-null  object \n",
      " 20  assigned_room_type              119390 non-null  object \n",
      " 21  booking_changes                 119390 non-null  int64  \n",
      " 22  deposit_type                    119390 non-null  object \n",
      " 23  agent                           103050 non-null  float64\n",
      " 24  company                         6797 non-null    float64\n",
      " 25  days_in_waiting_list            119390 non-null  int64  \n",
      " 26  customer_type                   119390 non-null  object \n",
      " 27  adr                             119390 non-null  float64\n",
      " 28  required_car_parking_spaces     119390 non-null  int64  \n",
      " 29  total_of_special_requests       119390 non-null  int64  \n",
      " 30  reservation_status              119390 non-null  object \n",
      " 31  reservation_status_date         119390 non-null  object \n",
      "dtypes: float64(4), int64(16), object(12)\n",
      "memory usage: 29.1+ MB\n"
     ]
    }
   ],
   "source": [
    "#overview of data\n",
    "hotel_data.info()"
   ]
  },
  {
   "cell_type": "markdown",
   "id": "edf9699d",
   "metadata": {},
   "source": [
    "There are null values in the data in two columns agent and company\n",
    "There are 31 columns in the data"
   ]
  },
  {
   "cell_type": "code",
   "execution_count": 6,
   "id": "374d089f",
   "metadata": {},
   "outputs": [],
   "source": [
    "#dropping null value columns\n",
    "hotel_data.drop(['company','agent'],axis=1,inplace=True)\n",
    "hotel_data=hotel_data.dropna()"
   ]
  },
  {
   "cell_type": "code",
   "execution_count": 7,
   "id": "76e3f9ee",
   "metadata": {},
   "outputs": [
    {
     "data": {
      "text/html": [
       "<div>\n",
       "<style scoped>\n",
       "    .dataframe tbody tr th:only-of-type {\n",
       "        vertical-align: middle;\n",
       "    }\n",
       "\n",
       "    .dataframe tbody tr th {\n",
       "        vertical-align: top;\n",
       "    }\n",
       "\n",
       "    .dataframe thead th {\n",
       "        text-align: right;\n",
       "    }\n",
       "</style>\n",
       "<table border=\"1\" class=\"dataframe\">\n",
       "  <thead>\n",
       "    <tr style=\"text-align: right;\">\n",
       "      <th></th>\n",
       "      <th>is_canceled</th>\n",
       "      <th>lead_time</th>\n",
       "      <th>arrival_date_year</th>\n",
       "      <th>arrival_date_week_number</th>\n",
       "      <th>arrival_date_day_of_month</th>\n",
       "      <th>stays_in_weekend_nights</th>\n",
       "      <th>stays_in_week_nights</th>\n",
       "      <th>adults</th>\n",
       "      <th>children</th>\n",
       "      <th>babies</th>\n",
       "      <th>is_repeated_guest</th>\n",
       "      <th>previous_cancellations</th>\n",
       "      <th>previous_bookings_not_canceled</th>\n",
       "      <th>booking_changes</th>\n",
       "      <th>days_in_waiting_list</th>\n",
       "      <th>adr</th>\n",
       "      <th>required_car_parking_spaces</th>\n",
       "      <th>total_of_special_requests</th>\n",
       "    </tr>\n",
       "  </thead>\n",
       "  <tbody>\n",
       "    <tr>\n",
       "      <th>count</th>\n",
       "      <td>118898.000000</td>\n",
       "      <td>118898.000000</td>\n",
       "      <td>118898.000000</td>\n",
       "      <td>118898.000000</td>\n",
       "      <td>118898.000000</td>\n",
       "      <td>118898.000000</td>\n",
       "      <td>118898.000000</td>\n",
       "      <td>118898.000000</td>\n",
       "      <td>118898.000000</td>\n",
       "      <td>118898.000000</td>\n",
       "      <td>118898.000000</td>\n",
       "      <td>118898.000000</td>\n",
       "      <td>118898.000000</td>\n",
       "      <td>118898.000000</td>\n",
       "      <td>118898.000000</td>\n",
       "      <td>118898.000000</td>\n",
       "      <td>118898.000000</td>\n",
       "      <td>118898.000000</td>\n",
       "    </tr>\n",
       "    <tr>\n",
       "      <th>mean</th>\n",
       "      <td>0.371352</td>\n",
       "      <td>104.311435</td>\n",
       "      <td>2016.157656</td>\n",
       "      <td>27.166555</td>\n",
       "      <td>15.800880</td>\n",
       "      <td>0.928897</td>\n",
       "      <td>2.502145</td>\n",
       "      <td>1.858391</td>\n",
       "      <td>0.104207</td>\n",
       "      <td>0.007948</td>\n",
       "      <td>0.032011</td>\n",
       "      <td>0.087142</td>\n",
       "      <td>0.131634</td>\n",
       "      <td>0.221181</td>\n",
       "      <td>2.330754</td>\n",
       "      <td>102.003243</td>\n",
       "      <td>0.061885</td>\n",
       "      <td>0.571683</td>\n",
       "    </tr>\n",
       "    <tr>\n",
       "      <th>std</th>\n",
       "      <td>0.483168</td>\n",
       "      <td>106.903309</td>\n",
       "      <td>0.707459</td>\n",
       "      <td>13.589971</td>\n",
       "      <td>8.780324</td>\n",
       "      <td>0.996216</td>\n",
       "      <td>1.900168</td>\n",
       "      <td>0.578576</td>\n",
       "      <td>0.399172</td>\n",
       "      <td>0.097380</td>\n",
       "      <td>0.176029</td>\n",
       "      <td>0.845869</td>\n",
       "      <td>1.484672</td>\n",
       "      <td>0.652785</td>\n",
       "      <td>17.630452</td>\n",
       "      <td>50.485862</td>\n",
       "      <td>0.244172</td>\n",
       "      <td>0.792678</td>\n",
       "    </tr>\n",
       "    <tr>\n",
       "      <th>min</th>\n",
       "      <td>0.000000</td>\n",
       "      <td>0.000000</td>\n",
       "      <td>2015.000000</td>\n",
       "      <td>1.000000</td>\n",
       "      <td>1.000000</td>\n",
       "      <td>0.000000</td>\n",
       "      <td>0.000000</td>\n",
       "      <td>0.000000</td>\n",
       "      <td>0.000000</td>\n",
       "      <td>0.000000</td>\n",
       "      <td>0.000000</td>\n",
       "      <td>0.000000</td>\n",
       "      <td>0.000000</td>\n",
       "      <td>0.000000</td>\n",
       "      <td>0.000000</td>\n",
       "      <td>-6.380000</td>\n",
       "      <td>0.000000</td>\n",
       "      <td>0.000000</td>\n",
       "    </tr>\n",
       "    <tr>\n",
       "      <th>25%</th>\n",
       "      <td>0.000000</td>\n",
       "      <td>18.000000</td>\n",
       "      <td>2016.000000</td>\n",
       "      <td>16.000000</td>\n",
       "      <td>8.000000</td>\n",
       "      <td>0.000000</td>\n",
       "      <td>1.000000</td>\n",
       "      <td>2.000000</td>\n",
       "      <td>0.000000</td>\n",
       "      <td>0.000000</td>\n",
       "      <td>0.000000</td>\n",
       "      <td>0.000000</td>\n",
       "      <td>0.000000</td>\n",
       "      <td>0.000000</td>\n",
       "      <td>0.000000</td>\n",
       "      <td>70.000000</td>\n",
       "      <td>0.000000</td>\n",
       "      <td>0.000000</td>\n",
       "    </tr>\n",
       "    <tr>\n",
       "      <th>50%</th>\n",
       "      <td>0.000000</td>\n",
       "      <td>69.000000</td>\n",
       "      <td>2016.000000</td>\n",
       "      <td>28.000000</td>\n",
       "      <td>16.000000</td>\n",
       "      <td>1.000000</td>\n",
       "      <td>2.000000</td>\n",
       "      <td>2.000000</td>\n",
       "      <td>0.000000</td>\n",
       "      <td>0.000000</td>\n",
       "      <td>0.000000</td>\n",
       "      <td>0.000000</td>\n",
       "      <td>0.000000</td>\n",
       "      <td>0.000000</td>\n",
       "      <td>0.000000</td>\n",
       "      <td>95.000000</td>\n",
       "      <td>0.000000</td>\n",
       "      <td>0.000000</td>\n",
       "    </tr>\n",
       "    <tr>\n",
       "      <th>75%</th>\n",
       "      <td>1.000000</td>\n",
       "      <td>161.000000</td>\n",
       "      <td>2017.000000</td>\n",
       "      <td>38.000000</td>\n",
       "      <td>23.000000</td>\n",
       "      <td>2.000000</td>\n",
       "      <td>3.000000</td>\n",
       "      <td>2.000000</td>\n",
       "      <td>0.000000</td>\n",
       "      <td>0.000000</td>\n",
       "      <td>0.000000</td>\n",
       "      <td>0.000000</td>\n",
       "      <td>0.000000</td>\n",
       "      <td>0.000000</td>\n",
       "      <td>0.000000</td>\n",
       "      <td>126.000000</td>\n",
       "      <td>0.000000</td>\n",
       "      <td>1.000000</td>\n",
       "    </tr>\n",
       "    <tr>\n",
       "      <th>max</th>\n",
       "      <td>1.000000</td>\n",
       "      <td>737.000000</td>\n",
       "      <td>2017.000000</td>\n",
       "      <td>53.000000</td>\n",
       "      <td>31.000000</td>\n",
       "      <td>16.000000</td>\n",
       "      <td>41.000000</td>\n",
       "      <td>55.000000</td>\n",
       "      <td>10.000000</td>\n",
       "      <td>10.000000</td>\n",
       "      <td>1.000000</td>\n",
       "      <td>26.000000</td>\n",
       "      <td>72.000000</td>\n",
       "      <td>21.000000</td>\n",
       "      <td>391.000000</td>\n",
       "      <td>5400.000000</td>\n",
       "      <td>8.000000</td>\n",
       "      <td>5.000000</td>\n",
       "    </tr>\n",
       "  </tbody>\n",
       "</table>\n",
       "</div>"
      ],
      "text/plain": [
       "         is_canceled      lead_time  arrival_date_year  \\\n",
       "count  118898.000000  118898.000000      118898.000000   \n",
       "mean        0.371352     104.311435        2016.157656   \n",
       "std         0.483168     106.903309           0.707459   \n",
       "min         0.000000       0.000000        2015.000000   \n",
       "25%         0.000000      18.000000        2016.000000   \n",
       "50%         0.000000      69.000000        2016.000000   \n",
       "75%         1.000000     161.000000        2017.000000   \n",
       "max         1.000000     737.000000        2017.000000   \n",
       "\n",
       "       arrival_date_week_number  arrival_date_day_of_month  \\\n",
       "count             118898.000000              118898.000000   \n",
       "mean                  27.166555                  15.800880   \n",
       "std                   13.589971                   8.780324   \n",
       "min                    1.000000                   1.000000   \n",
       "25%                   16.000000                   8.000000   \n",
       "50%                   28.000000                  16.000000   \n",
       "75%                   38.000000                  23.000000   \n",
       "max                   53.000000                  31.000000   \n",
       "\n",
       "       stays_in_weekend_nights  stays_in_week_nights         adults  \\\n",
       "count            118898.000000         118898.000000  118898.000000   \n",
       "mean                  0.928897              2.502145       1.858391   \n",
       "std                   0.996216              1.900168       0.578576   \n",
       "min                   0.000000              0.000000       0.000000   \n",
       "25%                   0.000000              1.000000       2.000000   \n",
       "50%                   1.000000              2.000000       2.000000   \n",
       "75%                   2.000000              3.000000       2.000000   \n",
       "max                  16.000000             41.000000      55.000000   \n",
       "\n",
       "            children         babies  is_repeated_guest  \\\n",
       "count  118898.000000  118898.000000      118898.000000   \n",
       "mean        0.104207       0.007948           0.032011   \n",
       "std         0.399172       0.097380           0.176029   \n",
       "min         0.000000       0.000000           0.000000   \n",
       "25%         0.000000       0.000000           0.000000   \n",
       "50%         0.000000       0.000000           0.000000   \n",
       "75%         0.000000       0.000000           0.000000   \n",
       "max        10.000000      10.000000           1.000000   \n",
       "\n",
       "       previous_cancellations  previous_bookings_not_canceled  \\\n",
       "count           118898.000000                   118898.000000   \n",
       "mean                 0.087142                        0.131634   \n",
       "std                  0.845869                        1.484672   \n",
       "min                  0.000000                        0.000000   \n",
       "25%                  0.000000                        0.000000   \n",
       "50%                  0.000000                        0.000000   \n",
       "75%                  0.000000                        0.000000   \n",
       "max                 26.000000                       72.000000   \n",
       "\n",
       "       booking_changes  days_in_waiting_list            adr  \\\n",
       "count    118898.000000         118898.000000  118898.000000   \n",
       "mean          0.221181              2.330754     102.003243   \n",
       "std           0.652785             17.630452      50.485862   \n",
       "min           0.000000              0.000000      -6.380000   \n",
       "25%           0.000000              0.000000      70.000000   \n",
       "50%           0.000000              0.000000      95.000000   \n",
       "75%           0.000000              0.000000     126.000000   \n",
       "max          21.000000            391.000000    5400.000000   \n",
       "\n",
       "       required_car_parking_spaces  total_of_special_requests  \n",
       "count                118898.000000              118898.000000  \n",
       "mean                      0.061885                   0.571683  \n",
       "std                       0.244172                   0.792678  \n",
       "min                       0.000000                   0.000000  \n",
       "25%                       0.000000                   0.000000  \n",
       "50%                       0.000000                   0.000000  \n",
       "75%                       0.000000                   1.000000  \n",
       "max                       8.000000                   5.000000  "
      ]
     },
     "execution_count": 7,
     "metadata": {},
     "output_type": "execute_result"
    }
   ],
   "source": [
    "#statistical view of the data\n",
    "hotel_data.describe()"
   ]
  },
  {
   "cell_type": "code",
   "execution_count": 8,
   "id": "06f9fa13",
   "metadata": {},
   "outputs": [
    {
     "data": {
      "text/html": [
       "<div>\n",
       "<style scoped>\n",
       "    .dataframe tbody tr th:only-of-type {\n",
       "        vertical-align: middle;\n",
       "    }\n",
       "\n",
       "    .dataframe tbody tr th {\n",
       "        vertical-align: top;\n",
       "    }\n",
       "\n",
       "    .dataframe thead th {\n",
       "        text-align: right;\n",
       "    }\n",
       "</style>\n",
       "<table border=\"1\" class=\"dataframe\">\n",
       "  <thead>\n",
       "    <tr style=\"text-align: right;\">\n",
       "      <th></th>\n",
       "      <th>hotel</th>\n",
       "      <th>is_canceled</th>\n",
       "      <th>lead_time</th>\n",
       "      <th>arrival_date_year</th>\n",
       "      <th>arrival_date_month</th>\n",
       "      <th>arrival_date_week_number</th>\n",
       "      <th>arrival_date_day_of_month</th>\n",
       "      <th>stays_in_weekend_nights</th>\n",
       "      <th>stays_in_week_nights</th>\n",
       "      <th>adults</th>\n",
       "      <th>...</th>\n",
       "      <th>assigned_room_type</th>\n",
       "      <th>booking_changes</th>\n",
       "      <th>deposit_type</th>\n",
       "      <th>days_in_waiting_list</th>\n",
       "      <th>customer_type</th>\n",
       "      <th>adr</th>\n",
       "      <th>required_car_parking_spaces</th>\n",
       "      <th>total_of_special_requests</th>\n",
       "      <th>reservation_status</th>\n",
       "      <th>reservation_status_date</th>\n",
       "    </tr>\n",
       "  </thead>\n",
       "  <tbody>\n",
       "    <tr>\n",
       "      <th>2224</th>\n",
       "      <td>Resort Hotel</td>\n",
       "      <td>0</td>\n",
       "      <td>1</td>\n",
       "      <td>2015</td>\n",
       "      <td>October</td>\n",
       "      <td>41</td>\n",
       "      <td>6</td>\n",
       "      <td>0</td>\n",
       "      <td>3</td>\n",
       "      <td>0</td>\n",
       "      <td>...</td>\n",
       "      <td>I</td>\n",
       "      <td>1</td>\n",
       "      <td>No Deposit</td>\n",
       "      <td>0</td>\n",
       "      <td>Transient-Party</td>\n",
       "      <td>0.00</td>\n",
       "      <td>0</td>\n",
       "      <td>0</td>\n",
       "      <td>Check-Out</td>\n",
       "      <td>2015-10-06</td>\n",
       "    </tr>\n",
       "    <tr>\n",
       "      <th>2409</th>\n",
       "      <td>Resort Hotel</td>\n",
       "      <td>0</td>\n",
       "      <td>0</td>\n",
       "      <td>2015</td>\n",
       "      <td>October</td>\n",
       "      <td>42</td>\n",
       "      <td>12</td>\n",
       "      <td>0</td>\n",
       "      <td>0</td>\n",
       "      <td>0</td>\n",
       "      <td>...</td>\n",
       "      <td>I</td>\n",
       "      <td>0</td>\n",
       "      <td>No Deposit</td>\n",
       "      <td>0</td>\n",
       "      <td>Transient</td>\n",
       "      <td>0.00</td>\n",
       "      <td>0</td>\n",
       "      <td>0</td>\n",
       "      <td>Check-Out</td>\n",
       "      <td>2015-10-12</td>\n",
       "    </tr>\n",
       "    <tr>\n",
       "      <th>3181</th>\n",
       "      <td>Resort Hotel</td>\n",
       "      <td>0</td>\n",
       "      <td>36</td>\n",
       "      <td>2015</td>\n",
       "      <td>November</td>\n",
       "      <td>47</td>\n",
       "      <td>20</td>\n",
       "      <td>1</td>\n",
       "      <td>2</td>\n",
       "      <td>0</td>\n",
       "      <td>...</td>\n",
       "      <td>C</td>\n",
       "      <td>0</td>\n",
       "      <td>No Deposit</td>\n",
       "      <td>0</td>\n",
       "      <td>Transient-Party</td>\n",
       "      <td>0.00</td>\n",
       "      <td>0</td>\n",
       "      <td>0</td>\n",
       "      <td>Check-Out</td>\n",
       "      <td>2015-11-23</td>\n",
       "    </tr>\n",
       "    <tr>\n",
       "      <th>3684</th>\n",
       "      <td>Resort Hotel</td>\n",
       "      <td>0</td>\n",
       "      <td>165</td>\n",
       "      <td>2015</td>\n",
       "      <td>December</td>\n",
       "      <td>53</td>\n",
       "      <td>30</td>\n",
       "      <td>1</td>\n",
       "      <td>4</td>\n",
       "      <td>0</td>\n",
       "      <td>...</td>\n",
       "      <td>A</td>\n",
       "      <td>1</td>\n",
       "      <td>No Deposit</td>\n",
       "      <td>122</td>\n",
       "      <td>Transient-Party</td>\n",
       "      <td>0.00</td>\n",
       "      <td>0</td>\n",
       "      <td>0</td>\n",
       "      <td>Check-Out</td>\n",
       "      <td>2016-01-04</td>\n",
       "    </tr>\n",
       "    <tr>\n",
       "      <th>3708</th>\n",
       "      <td>Resort Hotel</td>\n",
       "      <td>0</td>\n",
       "      <td>165</td>\n",
       "      <td>2015</td>\n",
       "      <td>December</td>\n",
       "      <td>53</td>\n",
       "      <td>30</td>\n",
       "      <td>2</td>\n",
       "      <td>4</td>\n",
       "      <td>0</td>\n",
       "      <td>...</td>\n",
       "      <td>C</td>\n",
       "      <td>1</td>\n",
       "      <td>No Deposit</td>\n",
       "      <td>122</td>\n",
       "      <td>Transient-Party</td>\n",
       "      <td>0.00</td>\n",
       "      <td>0</td>\n",
       "      <td>0</td>\n",
       "      <td>Check-Out</td>\n",
       "      <td>2016-01-05</td>\n",
       "    </tr>\n",
       "    <tr>\n",
       "      <th>...</th>\n",
       "      <td>...</td>\n",
       "      <td>...</td>\n",
       "      <td>...</td>\n",
       "      <td>...</td>\n",
       "      <td>...</td>\n",
       "      <td>...</td>\n",
       "      <td>...</td>\n",
       "      <td>...</td>\n",
       "      <td>...</td>\n",
       "      <td>...</td>\n",
       "      <td>...</td>\n",
       "      <td>...</td>\n",
       "      <td>...</td>\n",
       "      <td>...</td>\n",
       "      <td>...</td>\n",
       "      <td>...</td>\n",
       "      <td>...</td>\n",
       "      <td>...</td>\n",
       "      <td>...</td>\n",
       "      <td>...</td>\n",
       "      <td>...</td>\n",
       "    </tr>\n",
       "    <tr>\n",
       "      <th>115029</th>\n",
       "      <td>City Hotel</td>\n",
       "      <td>0</td>\n",
       "      <td>107</td>\n",
       "      <td>2017</td>\n",
       "      <td>June</td>\n",
       "      <td>26</td>\n",
       "      <td>27</td>\n",
       "      <td>0</td>\n",
       "      <td>3</td>\n",
       "      <td>0</td>\n",
       "      <td>...</td>\n",
       "      <td>A</td>\n",
       "      <td>1</td>\n",
       "      <td>No Deposit</td>\n",
       "      <td>0</td>\n",
       "      <td>Transient</td>\n",
       "      <td>100.80</td>\n",
       "      <td>0</td>\n",
       "      <td>0</td>\n",
       "      <td>Check-Out</td>\n",
       "      <td>2017-06-30</td>\n",
       "    </tr>\n",
       "    <tr>\n",
       "      <th>115091</th>\n",
       "      <td>City Hotel</td>\n",
       "      <td>0</td>\n",
       "      <td>1</td>\n",
       "      <td>2017</td>\n",
       "      <td>June</td>\n",
       "      <td>26</td>\n",
       "      <td>30</td>\n",
       "      <td>0</td>\n",
       "      <td>1</td>\n",
       "      <td>0</td>\n",
       "      <td>...</td>\n",
       "      <td>K</td>\n",
       "      <td>0</td>\n",
       "      <td>No Deposit</td>\n",
       "      <td>0</td>\n",
       "      <td>Transient</td>\n",
       "      <td>0.00</td>\n",
       "      <td>1</td>\n",
       "      <td>1</td>\n",
       "      <td>Check-Out</td>\n",
       "      <td>2017-07-01</td>\n",
       "    </tr>\n",
       "    <tr>\n",
       "      <th>116251</th>\n",
       "      <td>City Hotel</td>\n",
       "      <td>0</td>\n",
       "      <td>44</td>\n",
       "      <td>2017</td>\n",
       "      <td>July</td>\n",
       "      <td>28</td>\n",
       "      <td>15</td>\n",
       "      <td>1</td>\n",
       "      <td>1</td>\n",
       "      <td>0</td>\n",
       "      <td>...</td>\n",
       "      <td>K</td>\n",
       "      <td>2</td>\n",
       "      <td>No Deposit</td>\n",
       "      <td>0</td>\n",
       "      <td>Transient</td>\n",
       "      <td>73.80</td>\n",
       "      <td>0</td>\n",
       "      <td>0</td>\n",
       "      <td>Check-Out</td>\n",
       "      <td>2017-07-17</td>\n",
       "    </tr>\n",
       "    <tr>\n",
       "      <th>116534</th>\n",
       "      <td>City Hotel</td>\n",
       "      <td>0</td>\n",
       "      <td>2</td>\n",
       "      <td>2017</td>\n",
       "      <td>July</td>\n",
       "      <td>28</td>\n",
       "      <td>15</td>\n",
       "      <td>2</td>\n",
       "      <td>5</td>\n",
       "      <td>0</td>\n",
       "      <td>...</td>\n",
       "      <td>K</td>\n",
       "      <td>1</td>\n",
       "      <td>No Deposit</td>\n",
       "      <td>0</td>\n",
       "      <td>Transient-Party</td>\n",
       "      <td>22.86</td>\n",
       "      <td>0</td>\n",
       "      <td>1</td>\n",
       "      <td>Check-Out</td>\n",
       "      <td>2017-07-22</td>\n",
       "    </tr>\n",
       "    <tr>\n",
       "      <th>117087</th>\n",
       "      <td>City Hotel</td>\n",
       "      <td>0</td>\n",
       "      <td>170</td>\n",
       "      <td>2017</td>\n",
       "      <td>July</td>\n",
       "      <td>30</td>\n",
       "      <td>27</td>\n",
       "      <td>0</td>\n",
       "      <td>2</td>\n",
       "      <td>0</td>\n",
       "      <td>...</td>\n",
       "      <td>A</td>\n",
       "      <td>0</td>\n",
       "      <td>No Deposit</td>\n",
       "      <td>0</td>\n",
       "      <td>Transient</td>\n",
       "      <td>0.00</td>\n",
       "      <td>0</td>\n",
       "      <td>0</td>\n",
       "      <td>Check-Out</td>\n",
       "      <td>2017-07-29</td>\n",
       "    </tr>\n",
       "  </tbody>\n",
       "</table>\n",
       "<p>170 rows × 30 columns</p>\n",
       "</div>"
      ],
      "text/plain": [
       "               hotel  is_canceled  lead_time  arrival_date_year  \\\n",
       "2224    Resort Hotel            0          1               2015   \n",
       "2409    Resort Hotel            0          0               2015   \n",
       "3181    Resort Hotel            0         36               2015   \n",
       "3684    Resort Hotel            0        165               2015   \n",
       "3708    Resort Hotel            0        165               2015   \n",
       "...              ...          ...        ...                ...   \n",
       "115029    City Hotel            0        107               2017   \n",
       "115091    City Hotel            0          1               2017   \n",
       "116251    City Hotel            0         44               2017   \n",
       "116534    City Hotel            0          2               2017   \n",
       "117087    City Hotel            0        170               2017   \n",
       "\n",
       "       arrival_date_month  arrival_date_week_number  \\\n",
       "2224              October                        41   \n",
       "2409              October                        42   \n",
       "3181             November                        47   \n",
       "3684             December                        53   \n",
       "3708             December                        53   \n",
       "...                   ...                       ...   \n",
       "115029               June                        26   \n",
       "115091               June                        26   \n",
       "116251               July                        28   \n",
       "116534               July                        28   \n",
       "117087               July                        30   \n",
       "\n",
       "        arrival_date_day_of_month  stays_in_weekend_nights  \\\n",
       "2224                            6                        0   \n",
       "2409                           12                        0   \n",
       "3181                           20                        1   \n",
       "3684                           30                        1   \n",
       "3708                           30                        2   \n",
       "...                           ...                      ...   \n",
       "115029                         27                        0   \n",
       "115091                         30                        0   \n",
       "116251                         15                        1   \n",
       "116534                         15                        2   \n",
       "117087                         27                        0   \n",
       "\n",
       "        stays_in_week_nights  adults  ...  assigned_room_type  \\\n",
       "2224                       3       0  ...                   I   \n",
       "2409                       0       0  ...                   I   \n",
       "3181                       2       0  ...                   C   \n",
       "3684                       4       0  ...                   A   \n",
       "3708                       4       0  ...                   C   \n",
       "...                      ...     ...  ...                 ...   \n",
       "115029                     3       0  ...                   A   \n",
       "115091                     1       0  ...                   K   \n",
       "116251                     1       0  ...                   K   \n",
       "116534                     5       0  ...                   K   \n",
       "117087                     2       0  ...                   A   \n",
       "\n",
       "        booking_changes deposit_type days_in_waiting_list    customer_type  \\\n",
       "2224                  1   No Deposit                    0  Transient-Party   \n",
       "2409                  0   No Deposit                    0        Transient   \n",
       "3181                  0   No Deposit                    0  Transient-Party   \n",
       "3684                  1   No Deposit                  122  Transient-Party   \n",
       "3708                  1   No Deposit                  122  Transient-Party   \n",
       "...                 ...          ...                  ...              ...   \n",
       "115029                1   No Deposit                    0        Transient   \n",
       "115091                0   No Deposit                    0        Transient   \n",
       "116251                2   No Deposit                    0        Transient   \n",
       "116534                1   No Deposit                    0  Transient-Party   \n",
       "117087                0   No Deposit                    0        Transient   \n",
       "\n",
       "           adr  required_car_parking_spaces  total_of_special_requests  \\\n",
       "2224      0.00                            0                          0   \n",
       "2409      0.00                            0                          0   \n",
       "3181      0.00                            0                          0   \n",
       "3684      0.00                            0                          0   \n",
       "3708      0.00                            0                          0   \n",
       "...        ...                          ...                        ...   \n",
       "115029  100.80                            0                          0   \n",
       "115091    0.00                            1                          1   \n",
       "116251   73.80                            0                          0   \n",
       "116534   22.86                            0                          1   \n",
       "117087    0.00                            0                          0   \n",
       "\n",
       "        reservation_status reservation_status_date  \n",
       "2224             Check-Out              2015-10-06  \n",
       "2409             Check-Out              2015-10-12  \n",
       "3181             Check-Out              2015-11-23  \n",
       "3684             Check-Out              2016-01-04  \n",
       "3708             Check-Out              2016-01-05  \n",
       "...                    ...                     ...  \n",
       "115029           Check-Out              2017-06-30  \n",
       "115091           Check-Out              2017-07-01  \n",
       "116251           Check-Out              2017-07-17  \n",
       "116534           Check-Out              2017-07-22  \n",
       "117087           Check-Out              2017-07-29  \n",
       "\n",
       "[170 rows x 30 columns]"
      ]
     },
     "execution_count": 8,
     "metadata": {},
     "output_type": "execute_result"
    }
   ],
   "source": [
    "#checking the scenario where adults children and babies are zero\n",
    "filter = (hotel_data.children == 0) & (hotel_data.adults == 0) & (hotel_data.babies == 0)\n",
    "hotel_data[filter]"
   ]
  },
  {
   "cell_type": "markdown",
   "id": "57c276ae",
   "metadata": {},
   "source": [
    "there are 180 rows which satisfies this condition"
   ]
  },
  {
   "cell_type": "code",
   "execution_count": 9,
   "id": "b9f9a1c1",
   "metadata": {},
   "outputs": [],
   "source": [
    "#deleting the data with the above condition\n",
    "hotel_data = hotel_data[~filter]"
   ]
  },
  {
   "cell_type": "code",
   "execution_count": 10,
   "id": "4dde647b",
   "metadata": {},
   "outputs": [
    {
     "name": "stdout",
     "output_type": "stream",
     "text": [
      "number of integer columns: 18\n",
      "Index(['is_canceled', 'lead_time', 'arrival_date_year',\n",
      "       'arrival_date_week_number', 'arrival_date_day_of_month',\n",
      "       'stays_in_weekend_nights', 'stays_in_week_nights', 'adults', 'children',\n",
      "       'babies', 'is_repeated_guest', 'previous_cancellations',\n",
      "       'previous_bookings_not_canceled', 'booking_changes',\n",
      "       'days_in_waiting_list', 'adr', 'required_car_parking_spaces',\n",
      "       'total_of_special_requests'],\n",
      "      dtype='object')\n"
     ]
    }
   ],
   "source": [
    "#checking integer and object columns\n",
    "int_columns = hotel_data.select_dtypes(include=['int','float']).columns\n",
    "print('number of integer columns:',len(int_columns))\n",
    "print(int_columns)"
   ]
  },
  {
   "cell_type": "markdown",
   "id": "b2ea2b06",
   "metadata": {},
   "source": [
    "# Exploratory Data Analysis"
   ]
  },
  {
   "cell_type": "code",
   "execution_count": 11,
   "id": "02716ce5",
   "metadata": {},
   "outputs": [
    {
     "data": {
      "text/html": [
       "<div>\n",
       "<style scoped>\n",
       "    .dataframe tbody tr th:only-of-type {\n",
       "        vertical-align: middle;\n",
       "    }\n",
       "\n",
       "    .dataframe tbody tr th {\n",
       "        vertical-align: top;\n",
       "    }\n",
       "\n",
       "    .dataframe thead th {\n",
       "        text-align: right;\n",
       "    }\n",
       "</style>\n",
       "<table border=\"1\" class=\"dataframe\">\n",
       "  <thead>\n",
       "    <tr style=\"text-align: right;\">\n",
       "      <th></th>\n",
       "      <th>is_canceled</th>\n",
       "      <th>lead_time</th>\n",
       "      <th>arrival_date_year</th>\n",
       "      <th>arrival_date_week_number</th>\n",
       "      <th>arrival_date_day_of_month</th>\n",
       "      <th>stays_in_weekend_nights</th>\n",
       "      <th>stays_in_week_nights</th>\n",
       "      <th>adults</th>\n",
       "      <th>children</th>\n",
       "      <th>babies</th>\n",
       "      <th>is_repeated_guest</th>\n",
       "      <th>previous_cancellations</th>\n",
       "      <th>previous_bookings_not_canceled</th>\n",
       "      <th>booking_changes</th>\n",
       "      <th>days_in_waiting_list</th>\n",
       "      <th>adr</th>\n",
       "      <th>required_car_parking_spaces</th>\n",
       "      <th>total_of_special_requests</th>\n",
       "    </tr>\n",
       "  </thead>\n",
       "  <tbody>\n",
       "    <tr>\n",
       "      <th>0</th>\n",
       "      <td>0</td>\n",
       "      <td>5998438</td>\n",
       "      <td>150384529</td>\n",
       "      <td>2020270</td>\n",
       "      <td>1181618</td>\n",
       "      <td>69369</td>\n",
       "      <td>183855</td>\n",
       "      <td>136965</td>\n",
       "      <td>7680.0</td>\n",
       "      <td>776</td>\n",
       "      <td>3201</td>\n",
       "      <td>1167</td>\n",
       "      <td>14547</td>\n",
       "      <td>21643</td>\n",
       "      <td>119094</td>\n",
       "      <td>7488360.47</td>\n",
       "      <td>7351</td>\n",
       "      <td>53380</td>\n",
       "    </tr>\n",
       "    <tr>\n",
       "      <th>1</th>\n",
       "      <td>1</td>\n",
       "      <td>6396921</td>\n",
       "      <td>88989830</td>\n",
       "      <td>1204988</td>\n",
       "      <td>694399</td>\n",
       "      <td>40847</td>\n",
       "      <td>113074</td>\n",
       "      <td>83994</td>\n",
       "      <td>4710.0</td>\n",
       "      <td>169</td>\n",
       "      <td>550</td>\n",
       "      <td>9187</td>\n",
       "      <td>1079</td>\n",
       "      <td>4338</td>\n",
       "      <td>157618</td>\n",
       "      <td>4637738.89</td>\n",
       "      <td>0</td>\n",
       "      <td>14506</td>\n",
       "    </tr>\n",
       "  </tbody>\n",
       "</table>\n",
       "</div>"
      ],
      "text/plain": [
       "   is_canceled  lead_time  arrival_date_year  arrival_date_week_number  \\\n",
       "0            0    5998438          150384529                   2020270   \n",
       "1            1    6396921           88989830                   1204988   \n",
       "\n",
       "   arrival_date_day_of_month  stays_in_weekend_nights  stays_in_week_nights  \\\n",
       "0                    1181618                    69369                183855   \n",
       "1                     694399                    40847                113074   \n",
       "\n",
       "   adults  children  babies  is_repeated_guest  previous_cancellations  \\\n",
       "0  136965    7680.0     776               3201                    1167   \n",
       "1   83994    4710.0     169                550                    9187   \n",
       "\n",
       "   previous_bookings_not_canceled  booking_changes  days_in_waiting_list  \\\n",
       "0                           14547            21643                119094   \n",
       "1                            1079             4338                157618   \n",
       "\n",
       "          adr  required_car_parking_spaces  total_of_special_requests  \n",
       "0  7488360.47                         7351                      53380  \n",
       "1  4637738.89                            0                      14506  "
      ]
     },
     "execution_count": 11,
     "metadata": {},
     "output_type": "execute_result"
    }
   ],
   "source": [
    "target_data_summary = hotel_data.groupby(by ='is_canceled').sum()\n",
    "target_data_summary=target_data_summary.reset_index()\n",
    "target_data_summary"
   ]
  },
  {
   "cell_type": "code",
   "execution_count": 12,
   "id": "a256b3c9",
   "metadata": {},
   "outputs": [
    {
     "data": {
      "image/png": "[encoded data removed]",
      "text/plain": [
       "<Figure size 432x288 with 1 Axes>"
      ]
     },
     "metadata": {
      "needs_background": "light"
     },
     "output_type": "display_data"
    }
   ],
   "source": [
    "sns.barplot(x='is_canceled',y='is_repeated_guest',data=target_data_summary)\n",
    "plt.title('is canceled   vs     is_repeated_guest')\n",
    "plt.show()\n"
   ]
  },
  {
   "cell_type": "markdown",
   "id": "674aa174",
   "metadata": {},
   "source": [
    "Hotel booking cancellation count is less for repeated guests compared rare guests"
   ]
  },
  {
   "cell_type": "code",
   "execution_count": 13,
   "id": "b0a0f46c",
   "metadata": {},
   "outputs": [
    {
     "data": {
      "image/png": "[encoded data removed]",
      "text/plain": [
       "<Figure size 432x288 with 1 Axes>"
      ]
     },
     "metadata": {
      "needs_background": "light"
     },
     "output_type": "display_data"
    }
   ],
   "source": [
    "#Booking or Reservation Lead Time is the period of time (most typically measured in calendar days)\n",
    "#between when a guest makes the reservation and the actual check-in/arrival date.\n",
    "\n",
    "sns.boxplot(x='is_canceled',y='lead_time',hue='hotel',data=hotel_data)\n",
    "plt.title('resort and city hotel outliers')\n",
    "plt.show()"
   ]
  },
  {
   "cell_type": "markdown",
   "id": "e2ff7b6d",
   "metadata": {},
   "source": [
    "There are outliers in the leadtime"
   ]
  },
  {
   "cell_type": "code",
   "execution_count": 14,
   "id": "fef63e15",
   "metadata": {},
   "outputs": [
    {
     "data": {
      "image/png": "[encoded data removed]",
      "text/plain": [
       "<Figure size 432x288 with 1 Axes>"
      ]
     },
     "metadata": {
      "needs_background": "light"
     },
     "output_type": "display_data"
    }
   ],
   "source": [
    "sns.boxplot(x='is_canceled',y='stays_in_weekend_nights',hue='hotel',data=hotel_data)\n",
    "plt.title('resort and city hotel outliers')\n",
    "plt.show()"
   ]
  },
  {
   "cell_type": "code",
   "execution_count": 15,
   "id": "8dda3328",
   "metadata": {},
   "outputs": [
    {
     "data": {
      "image/png": "[encoded data removed]",
      "text/plain": [
       "<Figure size 432x288 with 1 Axes>"
      ]
     },
     "metadata": {
      "needs_background": "light"
     },
     "output_type": "display_data"
    }
   ],
   "source": [
    "sns.histplot(x='total_of_special_requests',data=hotel_data)\n",
    "plt.title('distribution of total special requests')\n",
    "plt.show()"
   ]
  },
  {
   "cell_type": "markdown",
   "id": "100c47de",
   "metadata": {},
   "source": [
    "Till now we have explored the outliers through data visualization. detecting the outliers in the overall dataframe is the next task"
   ]
  },
  {
   "cell_type": "code",
   "execution_count": 16,
   "id": "6aa62c41",
   "metadata": {},
   "outputs": [
    {
     "data": {
      "image/png": "[encoded data removed]",
      "text/plain": [
       "<Figure size 720x360 with 2 Axes>"
      ]
     },
     "metadata": {
      "needs_background": "light"
     },
     "output_type": "display_data"
    }
   ],
   "source": [
    "sns.catplot(data=hotel_data,x='reserved_room_type',y='lead_time',col='hotel',color='green')\n",
    "plt.show()"
   ]
  },
  {
   "cell_type": "code",
   "execution_count": 17,
   "id": "11d87973",
   "metadata": {},
   "outputs": [
    {
     "data": {
      "image/png": "[encoded data removed]",
      "text/plain": [
       "<Figure size 1080x360 with 3 Axes>"
      ]
     },
     "metadata": {
      "needs_background": "light"
     },
     "output_type": "display_data"
    }
   ],
   "source": [
    "sns.catplot(data=hotel_data,y='days_in_waiting_list',x='is_canceled',col='deposit_type',color='red')\n",
    "plt.show()"
   ]
  },
  {
   "cell_type": "code",
   "execution_count": 18,
   "id": "383aefbb",
   "metadata": {},
   "outputs": [
    {
     "data": {
      "image/png": "[encoded data removed]",
      "text/plain": [
       "<Figure size 426.125x360 with 1 Axes>"
      ]
     },
     "metadata": {
      "needs_background": "light"
     },
     "output_type": "display_data"
    }
   ],
   "source": [
    "chart=sns.catplot(data=hotel_data, x='market_segment', kind='count', hue='is_canceled')\n",
    "chart.set_xticklabels(rotation=65, horizontalalignment='right')\n",
    "plt.show()"
   ]
  },
  {
   "cell_type": "markdown",
   "id": "758ba81b",
   "metadata": {},
   "source": [
    " # Detection of outliers"
   ]
  },
  {
   "cell_type": "markdown",
   "id": "4d7fbf2a",
   "metadata": {},
   "source": [
    " ## Z score"
   ]
  },
  {
   "cell_type": "code",
   "execution_count": 19,
   "id": "180f13f9",
   "metadata": {},
   "outputs": [],
   "source": [
    "# Assuming 'hotel_data' is your DataFrame\n",
    "# You can get the column data types using dtypes\n",
    "column_types = hotel_data.dtypes\n",
    "\n",
    "# Assuming you want to separate columns into 'int_columns' and 'cat_columns' based on their data types\n",
    "int_columns = column_types[column_types == 'int64'].index.tolist()\n",
    "cat_columns = column_types[column_types == 'object'].index.tolist()\n",
    "\n",
    "# Now you can use these lists to separate the columns\n",
    "int_data = hotel_data[int_columns]\n",
    "cat_data = hotel_data[cat_columns]\n"
   ]
  },
  {
   "cell_type": "code",
   "execution_count": 20,
   "id": "dd0bdcf8",
   "metadata": {},
   "outputs": [],
   "source": [
    "#calculating the z score for the entire dataframe\n",
    "z = np.abs(stats.zscore(int_data))"
   ]
  },
  {
   "cell_type": "code",
   "execution_count": 21,
   "id": "228cbf9f",
   "metadata": {},
   "outputs": [
    {
     "name": "stdout",
     "output_type": "stream",
     "text": [
      "(array([     0,      1,      1, ..., 118694, 118714, 118725], dtype=int64), array([12,  1, 12, ..., 12, 15, 15], dtype=int64))\n"
     ]
    }
   ],
   "source": [
    "threshold = 3\n",
    "print(np.where(z > 3))"
   ]
  },
  {
   "cell_type": "markdown",
   "id": "8406cbe0",
   "metadata": {},
   "source": [
    "Detection of outliers with IQR"
   ]
  },
  {
   "cell_type": "code",
   "execution_count": 22,
   "id": "f0dcbdd3",
   "metadata": {},
   "outputs": [
    {
     "name": "stdout",
     "output_type": "stream",
     "text": [
      "is_canceled                         1.0\n",
      "lead_time                         143.0\n",
      "arrival_date_year                   1.0\n",
      "arrival_date_week_number           22.0\n",
      "arrival_date_day_of_month          15.0\n",
      "stays_in_weekend_nights             2.0\n",
      "stays_in_week_nights                2.0\n",
      "adults                              0.0\n",
      "babies                              0.0\n",
      "is_repeated_guest                   0.0\n",
      "previous_cancellations              0.0\n",
      "previous_bookings_not_canceled      0.0\n",
      "booking_changes                     0.0\n",
      "days_in_waiting_list                0.0\n",
      "required_car_parking_spaces         0.0\n",
      "total_of_special_requests           1.0\n",
      "dtype: float64\n"
     ]
    }
   ],
   "source": [
    "Q1 = int_data.quantile(0.25)\n",
    "Q3 = int_data.quantile(0.75)\n",
    "IQR = Q3 - Q1\n",
    "print(IQR)"
   ]
  },
  {
   "cell_type": "code",
   "execution_count": 23,
   "id": "ffb8d749",
   "metadata": {},
   "outputs": [],
   "source": [
    "#removing the outliers\n",
    "hotel_data[int_data.columns] = int_data[~(int_data < (Q1 - 1.5 * IQR)) |(int_data > (Q3 + 1.5 * IQR))]"
   ]
  },
  {
   "cell_type": "code",
   "execution_count": 24,
   "id": "d1293d58",
   "metadata": {},
   "outputs": [],
   "source": [
    "# le = LabelEncoder()\n",
    "# hotel_data = hotel_data.apply(LabelEncoder().fit_transform)"
   ]
  },
  {
   "cell_type": "code",
   "execution_count": 25,
   "id": "1e4df38b",
   "metadata": {},
   "outputs": [],
   "source": [
    "hotel_data = hotel_data.drop(['reservation_status_date','country'],axis=1)"
   ]
  },
  {
   "cell_type": "code",
   "execution_count": 26,
   "id": "eafeb3fb",
   "metadata": {},
   "outputs": [
    {
     "name": "stdout",
     "output_type": "stream",
     "text": [
      "Column: hotel\n",
      "Encoder: LabelEncoder()\n",
      "Mapping:\n",
      "City Hotel -> 0\n",
      "Resort Hotel -> 1\n",
      "\n",
      "Column: arrival_date_month\n",
      "Encoder: LabelEncoder()\n",
      "Mapping:\n",
      "April -> 0\n",
      "August -> 1\n",
      "December -> 2\n",
      "February -> 3\n",
      "January -> 4\n",
      "July -> 5\n",
      "June -> 6\n",
      "March -> 7\n",
      "May -> 8\n",
      "November -> 9\n",
      "October -> 10\n",
      "September -> 11\n",
      "\n",
      "Column: meal\n",
      "Encoder: LabelEncoder()\n",
      "Mapping:\n",
      "BB -> 0\n",
      "FB -> 1\n",
      "HB -> 2\n",
      "SC -> 3\n",
      "Undefined -> 4\n",
      "\n",
      "Column: market_segment\n",
      "Encoder: LabelEncoder()\n",
      "Mapping:\n",
      "Aviation -> 0\n",
      "Complementary -> 1\n",
      "Corporate -> 2\n",
      "Direct -> 3\n",
      "Groups -> 4\n",
      "Offline TA/TO -> 5\n",
      "Online TA -> 6\n",
      "\n",
      "Column: distribution_channel\n",
      "Encoder: LabelEncoder()\n",
      "Mapping:\n",
      "Corporate -> 0\n",
      "Direct -> 1\n",
      "GDS -> 2\n",
      "TA/TO -> 3\n",
      "Undefined -> 4\n",
      "\n",
      "Column: reserved_room_type\n",
      "Encoder: LabelEncoder()\n",
      "Mapping:\n",
      "A -> 0\n",
      "B -> 1\n",
      "C -> 2\n",
      "D -> 3\n",
      "E -> 4\n",
      "F -> 5\n",
      "G -> 6\n",
      "H -> 7\n",
      "L -> 8\n",
      "\n",
      "Column: assigned_room_type\n",
      "Encoder: LabelEncoder()\n",
      "Mapping:\n",
      "A -> 0\n",
      "B -> 1\n",
      "C -> 2\n",
      "D -> 3\n",
      "E -> 4\n",
      "F -> 5\n",
      "G -> 6\n",
      "H -> 7\n",
      "I -> 8\n",
      "K -> 9\n",
      "L -> 10\n",
      "\n",
      "Column: deposit_type\n",
      "Encoder: LabelEncoder()\n",
      "Mapping:\n",
      "No Deposit -> 0\n",
      "Non Refund -> 1\n",
      "Refundable -> 2\n",
      "\n",
      "Column: customer_type\n",
      "Encoder: LabelEncoder()\n",
      "Mapping:\n",
      "Contract -> 0\n",
      "Group -> 1\n",
      "Transient -> 2\n",
      "Transient-Party -> 3\n",
      "\n",
      "Column: reservation_status\n",
      "Encoder: LabelEncoder()\n",
      "Mapping:\n",
      "Canceled -> 0\n",
      "Check-Out -> 1\n",
      "No-Show -> 2\n",
      "\n"
     ]
    }
   ],
   "source": [
    "from sklearn.preprocessing import LabelEncoder\n",
    "\n",
    "# Assuming you have a DataFrame 'hotel_data' with multiple columns\n",
    "categorical_columns = hotel_data.select_dtypes(include=['object']).columns\n",
    "\n",
    "label_encoders = {}  # A dictionary to store label encoders and mappings\n",
    "\n",
    "for column_name in categorical_columns:\n",
    "    le = LabelEncoder()\n",
    "    le.fit(hotel_data[column_name])\n",
    "    label_encoders[column_name] = {\n",
    "        'encoder': le,\n",
    "        'mapping': dict(zip(le.classes_, le.transform(le.classes_)))\n",
    "    }\n",
    "\n",
    "    # Print the encoder and mapping for the current column\n",
    "    print(f\"Column: {column_name}\")\n",
    "    print(f\"Encoder: {le}\")\n",
    "    print(\"Mapping:\")\n",
    "    for key, value in label_encoders[column_name]['mapping'].items():\n",
    "        print(f\"{key} -> {value}\")\n",
    "    print(\"\")"
   ]
  },
  {
   "cell_type": "code",
   "execution_count": 27,
   "id": "666a098b",
   "metadata": {},
   "outputs": [],
   "source": [
    "# Transform the DataFrame with label-encoded values\n",
    "for column_name in categorical_columns:\n",
    "    hotel_data[column_name] = label_encoders[column_name]['encoder'].transform(hotel_data[column_name])\n",
    "\n",
    "# Identify the numerical columns\n",
    "numerical_columns = hotel_data.select_dtypes(exclude=['object']).columns\n",
    "\n",
    "# Create a new DataFrame with the original numerical columns\n",
    "new_hotel_data = hotel_data[numerical_columns].copy()\n",
    "\n",
    "# Combine the transformed categorical columns with the numerical columns\n",
    "for column_name in categorical_columns:\n",
    "    new_hotel_data[column_name] = hotel_data[column_name]"
   ]
  },
  {
   "cell_type": "code",
   "execution_count": 28,
   "id": "ff296dca",
   "metadata": {},
   "outputs": [
    {
     "name": "stdout",
     "output_type": "stream",
     "text": [
      "Column: hotel\n",
      "Encoded Value -> Original Value:\n",
      "City Hotel -> 0\n",
      "Resort Hotel -> 1\n",
      "Encoded Values for hotel: ['City Hotel', 'Resort Hotel']\n",
      "Column: arrival_date_month\n",
      "Encoded Value -> Original Value:\n",
      "April -> 0\n",
      "August -> 1\n",
      "December -> 2\n",
      "February -> 3\n",
      "January -> 4\n",
      "July -> 5\n",
      "June -> 6\n",
      "March -> 7\n",
      "May -> 8\n",
      "November -> 9\n",
      "October -> 10\n",
      "September -> 11\n",
      "Encoded Values for arrival_date_month: ['April', 'August', 'December', 'February', 'January', 'July', 'June', 'March', 'May', 'November', 'October', 'September']\n",
      "Column: meal\n",
      "Encoded Value -> Original Value:\n",
      "BB -> 0\n",
      "FB -> 1\n",
      "HB -> 2\n",
      "SC -> 3\n",
      "Undefined -> 4\n",
      "Encoded Values for meal: ['BB', 'FB', 'HB', 'SC', 'Undefined']\n",
      "Column: market_segment\n",
      "Encoded Value -> Original Value:\n",
      "Aviation -> 0\n",
      "Complementary -> 1\n",
      "Corporate -> 2\n",
      "Direct -> 3\n",
      "Groups -> 4\n",
      "Offline TA/TO -> 5\n",
      "Online TA -> 6\n",
      "Encoded Values for market_segment: ['Aviation', 'Complementary', 'Corporate', 'Direct', 'Groups', 'Offline TA/TO', 'Online TA']\n",
      "Column: distribution_channel\n",
      "Encoded Value -> Original Value:\n",
      "Corporate -> 0\n",
      "Direct -> 1\n",
      "GDS -> 2\n",
      "TA/TO -> 3\n",
      "Undefined -> 4\n",
      "Encoded Values for distribution_channel: ['Corporate', 'Direct', 'GDS', 'TA/TO', 'Undefined']\n",
      "Column: reserved_room_type\n",
      "Encoded Value -> Original Value:\n",
      "A -> 0\n",
      "B -> 1\n",
      "C -> 2\n",
      "D -> 3\n",
      "E -> 4\n",
      "F -> 5\n",
      "G -> 6\n",
      "H -> 7\n",
      "L -> 8\n",
      "Encoded Values for reserved_room_type: ['A', 'B', 'C', 'D', 'E', 'F', 'G', 'H', 'L']\n",
      "Column: assigned_room_type\n",
      "Encoded Value -> Original Value:\n",
      "A -> 0\n",
      "B -> 1\n",
      "C -> 2\n",
      "D -> 3\n",
      "E -> 4\n",
      "F -> 5\n",
      "G -> 6\n",
      "H -> 7\n",
      "I -> 8\n",
      "K -> 9\n",
      "L -> 10\n",
      "Encoded Values for assigned_room_type: ['A', 'B', 'C', 'D', 'E', 'F', 'G', 'H', 'I', 'K', 'L']\n",
      "Column: deposit_type\n",
      "Encoded Value -> Original Value:\n",
      "No Deposit -> 0\n",
      "Non Refund -> 1\n",
      "Refundable -> 2\n",
      "Encoded Values for deposit_type: ['No Deposit', 'Non Refund', 'Refundable']\n",
      "Column: customer_type\n",
      "Encoded Value -> Original Value:\n",
      "Contract -> 0\n",
      "Group -> 1\n",
      "Transient -> 2\n",
      "Transient-Party -> 3\n",
      "Encoded Values for customer_type: ['Contract', 'Group', 'Transient', 'Transient-Party']\n",
      "Column: reservation_status\n",
      "Encoded Value -> Original Value:\n",
      "Canceled -> 0\n",
      "Check-Out -> 1\n",
      "No-Show -> 2\n",
      "Encoded Values for reservation_status: ['Canceled', 'Check-Out', 'No-Show']\n"
     ]
    }
   ],
   "source": [
    "for column_name, encoder_info in label_encoders.items():\n",
    "    print(f\"Column: {column_name}\")\n",
    "    encoder = encoder_info['encoder']\n",
    "    mapping = encoder_info['mapping']\n",
    "\n",
    "    print(\"Encoded Value -> Original Value:\")\n",
    "    for encoded_value, original_value in mapping.items():\n",
    "        print(f\"{encoded_value} -> {original_value}\")\n",
    "\n",
    "    # If you want to access the encoded values as a list:\n",
    "    encoded_values = list(mapping.keys())\n",
    "    print(f\"Encoded Values for {column_name}: {encoded_values}\")\n"
   ]
  },
  {
   "cell_type": "code",
   "execution_count": 29,
   "id": "a25f4080",
   "metadata": {},
   "outputs": [],
   "source": [
    "#seperating the features and targets\n",
    "X = hotel_data.drop(['is_canceled','adults'],axis=1)\n",
    "y = hotel_data['is_canceled']\n",
    "#splitting the data\n",
    "X_train,X_test,y_train,y_test = train_test_split(X,y,test_size=0.3)"
   ]
  },
  {
   "cell_type": "markdown",
   "id": "eadbf9a2",
   "metadata": {},
   "source": [
    "Feature selection methods"
   ]
  },
  {
   "cell_type": "markdown",
   "id": "2b8249e5",
   "metadata": {},
   "source": [
    "1.Univariate feature selection"
   ]
  },
  {
   "cell_type": "code",
   "execution_count": 30,
   "id": "6a2d9dfd",
   "metadata": {},
   "outputs": [
    {
     "name": "stdout",
     "output_type": "stream",
     "text": [
      "                        columns         Score\n",
      "25           reservation_status  19114.419003\n",
      "19                 deposit_type  11676.501752\n",
      "1                     lead_time   1499.813143\n",
      "24    total_of_special_requests   1452.621855\n",
      "0                         hotel   1432.351107\n",
      "17           assigned_room_type    956.289845\n",
      "13            is_repeated_guest    814.002623\n",
      "23  required_car_parking_spaces    543.736489\n",
      "14       previous_cancellations    453.169004\n",
      "18              booking_changes    259.185192\n"
     ]
    }
   ],
   "source": [
    "from sklearn.feature_selection import SelectKBest, chi2\n",
    "from sklearn.preprocessing import MinMaxScaler\n",
    "\n",
    "# Assuming X is your feature matrix and y is your target variable\n",
    "scaler = MinMaxScaler()\n",
    "X_scaled = scaler.fit_transform(X)\n",
    "\n",
    "bestfeatures = SelectKBest(score_func=chi2, k=10)\n",
    "fit = bestfeatures.fit(X_scaled, y)\n",
    "\n",
    "dfscores = pd.DataFrame(fit.scores_)\n",
    "dfcolumns = pd.DataFrame(X.columns)\n",
    "\n",
    "# Concatenate two dataframes for better visualization\n",
    "featureScores = pd.concat([dfcolumns, dfscores], axis=1)\n",
    "featureScores.columns = ['columns', 'Score']  # naming the dataframe columns\n",
    "print(featureScores.nlargest(10, 'Score'))  # print 10 best features\n"
   ]
  },
  {
   "cell_type": "code",
   "execution_count": 31,
   "id": "a4f7f4c2",
   "metadata": {},
   "outputs": [],
   "source": [
    "#creating new dataframe with univariate feature selection menthod\n",
    "# univariate_data = hotel_data[featureScores.nlargest(10,'Score').columns]\n",
    "univariate_data = hotel_data[featureScores.nlargest(10,'Score')['columns'].tolist()]"
   ]
  },
  {
   "cell_type": "code",
   "execution_count": 32,
   "id": "d93914ab",
   "metadata": {},
   "outputs": [],
   "source": [
    "#splitting the data\n",
    "X_train_uni,X_test_uni,y_train_uni,y_test_uni = train_test_split(univariate_data,y)\n"
   ]
  },
  {
   "cell_type": "markdown",
   "id": "761fedd5",
   "metadata": {},
   "source": [
    "2.Correlation matrix with heatmap"
   ]
  },
  {
   "cell_type": "code",
   "execution_count": 33,
   "id": "86b0b0a6",
   "metadata": {},
   "outputs": [
    {
     "data": {
      "image/png": "[encoded data removed]",
      "text/plain": [
       "<Figure size 864x648 with 2 Axes>"
      ]
     },
     "metadata": {
      "needs_background": "light"
     },
     "output_type": "display_data"
    }
   ],
   "source": [
    "data_corr = hotel_data.corr()\n",
    "plt.figure(figsize=(12, 9))\n",
    "sns.heatmap(data_corr,cmap=\"RdYlGn\")\n",
    "plt.show()\n"
   ]
  },
  {
   "cell_type": "markdown",
   "id": "c7ee7ad6",
   "metadata": {},
   "source": [
    "3.Feature importance"
   ]
  },
  {
   "cell_type": "code",
   "execution_count": 34,
   "id": "a8ea18b8",
   "metadata": {},
   "outputs": [
    {
     "name": "stdout",
     "output_type": "stream",
     "text": [
      "[4.91324803e-03 2.02322392e-02 3.18476715e-03 1.61235183e-03\n",
      " 2.22593191e-03 1.62302434e-03 1.51120694e-03 1.74043448e-03\n",
      " 9.42532744e-04 1.16339931e-04 1.63799979e-03 1.04200473e-02\n",
      " 8.77900686e-03 2.17781583e-03 6.26108178e-03 2.33363245e-04\n",
      " 2.98210926e-03 6.80792783e-03 2.98350533e-03 9.23690659e-02\n",
      " 1.11846232e-03 6.65643008e-03 3.12829098e-03 8.14935728e-03\n",
      " 1.42922507e-02 7.93901209e-01]\n"
     ]
    }
   ],
   "source": [
    "model = ExtraTreesClassifier()\n",
    "model.fit(X,y)\n",
    "print(model.feature_importances_) #use inbuilt class feature_importances of tree based classifiers\n",
    "#plot graph of feature importances for better visualization"
   ]
  },
  {
   "cell_type": "code",
   "execution_count": 35,
   "id": "3295f50f",
   "metadata": {},
   "outputs": [],
   "source": [
    "feat_importances = pd.Series(model.feature_importances_, index=X.columns)\n",
    "\n"
   ]
  },
  {
   "cell_type": "code",
   "execution_count": 36,
   "id": "7a2e67d1",
   "metadata": {},
   "outputs": [
    {
     "data": {
      "image/png": "[encoded data removed]",
      "text/plain": [
       "<Figure size 432x288 with 1 Axes>"
      ]
     },
     "metadata": {
      "needs_background": "light"
     },
     "output_type": "display_data"
    }
   ],
   "source": [
    "# Number of top features to display\n",
    "top_n = 10\n",
    "\n",
    "# Get the top N important features\n",
    "top_features = feat_importances.nlargest(top_n)\n",
    "\n",
    "# Plot the bar graph\n",
    "top_features.plot(kind='barh')\n",
    "plt.show()\n",
    "\n",
    "# Print the column names of the top N features\n",
    "top_feature_names = top_features.index.tolist()\n"
   ]
  },
  {
   "cell_type": "code",
   "execution_count": 37,
   "id": "1633682d",
   "metadata": {},
   "outputs": [],
   "source": [
    "hotel_data_imp = X[top_feature_names]"
   ]
  },
  {
   "cell_type": "code",
   "execution_count": 38,
   "id": "6f086413",
   "metadata": {},
   "outputs": [
    {
     "data": {
      "text/plain": [
       "['reservation_status',\n",
       " 'deposit_type',\n",
       " 'lead_time',\n",
       " 'total_of_special_requests',\n",
       " 'market_segment',\n",
       " 'distribution_channel',\n",
       " 'required_car_parking_spaces',\n",
       " 'assigned_room_type',\n",
       " 'customer_type',\n",
       " 'previous_cancellations']"
      ]
     },
     "execution_count": 38,
     "metadata": {},
     "output_type": "execute_result"
    }
   ],
   "source": [
    "top_feature_names"
   ]
  },
  {
   "cell_type": "code",
   "execution_count": 39,
   "id": "83fbb9b5",
   "metadata": {},
   "outputs": [
    {
     "data": {
      "text/html": [
       "<div>\n",
       "<style scoped>\n",
       "    .dataframe tbody tr th:only-of-type {\n",
       "        vertical-align: middle;\n",
       "    }\n",
       "\n",
       "    .dataframe tbody tr th {\n",
       "        vertical-align: top;\n",
       "    }\n",
       "\n",
       "    .dataframe thead th {\n",
       "        text-align: right;\n",
       "    }\n",
       "</style>\n",
       "<table border=\"1\" class=\"dataframe\">\n",
       "  <thead>\n",
       "    <tr style=\"text-align: right;\">\n",
       "      <th></th>\n",
       "      <th>reservation_status</th>\n",
       "      <th>deposit_type</th>\n",
       "      <th>lead_time</th>\n",
       "      <th>total_of_special_requests</th>\n",
       "      <th>market_segment</th>\n",
       "      <th>distribution_channel</th>\n",
       "      <th>required_car_parking_spaces</th>\n",
       "      <th>assigned_room_type</th>\n",
       "      <th>customer_type</th>\n",
       "      <th>previous_cancellations</th>\n",
       "    </tr>\n",
       "  </thead>\n",
       "  <tbody>\n",
       "    <tr>\n",
       "      <th>count</th>\n",
       "      <td>118728.000000</td>\n",
       "      <td>118728.000000</td>\n",
       "      <td>118728.000000</td>\n",
       "      <td>118728.000000</td>\n",
       "      <td>118728.00000</td>\n",
       "      <td>118728.000000</td>\n",
       "      <td>118728.000000</td>\n",
       "      <td>118728.000000</td>\n",
       "      <td>118728.000000</td>\n",
       "      <td>118728.000000</td>\n",
       "    </tr>\n",
       "    <tr>\n",
       "      <th>mean</th>\n",
       "      <td>0.648491</td>\n",
       "      <td>0.125472</td>\n",
       "      <td>104.401312</td>\n",
       "      <td>0.571778</td>\n",
       "      <td>4.93534</td>\n",
       "      <td>2.591436</td>\n",
       "      <td>0.061915</td>\n",
       "      <td>1.318729</td>\n",
       "      <td>2.137541</td>\n",
       "      <td>0.087208</td>\n",
       "    </tr>\n",
       "    <tr>\n",
       "      <th>std</th>\n",
       "      <td>0.498197</td>\n",
       "      <td>0.335348</td>\n",
       "      <td>106.915284</td>\n",
       "      <td>0.792740</td>\n",
       "      <td>1.26070</td>\n",
       "      <td>0.901190</td>\n",
       "      <td>0.244230</td>\n",
       "      <td>1.863332</td>\n",
       "      <td>0.577906</td>\n",
       "      <td>0.846419</td>\n",
       "    </tr>\n",
       "    <tr>\n",
       "      <th>min</th>\n",
       "      <td>0.000000</td>\n",
       "      <td>0.000000</td>\n",
       "      <td>0.000000</td>\n",
       "      <td>0.000000</td>\n",
       "      <td>0.00000</td>\n",
       "      <td>0.000000</td>\n",
       "      <td>0.000000</td>\n",
       "      <td>0.000000</td>\n",
       "      <td>0.000000</td>\n",
       "      <td>0.000000</td>\n",
       "    </tr>\n",
       "    <tr>\n",
       "      <th>25%</th>\n",
       "      <td>0.000000</td>\n",
       "      <td>0.000000</td>\n",
       "      <td>18.000000</td>\n",
       "      <td>0.000000</td>\n",
       "      <td>4.00000</td>\n",
       "      <td>3.000000</td>\n",
       "      <td>0.000000</td>\n",
       "      <td>0.000000</td>\n",
       "      <td>2.000000</td>\n",
       "      <td>0.000000</td>\n",
       "    </tr>\n",
       "    <tr>\n",
       "      <th>50%</th>\n",
       "      <td>1.000000</td>\n",
       "      <td>0.000000</td>\n",
       "      <td>70.000000</td>\n",
       "      <td>0.000000</td>\n",
       "      <td>5.00000</td>\n",
       "      <td>3.000000</td>\n",
       "      <td>0.000000</td>\n",
       "      <td>0.000000</td>\n",
       "      <td>2.000000</td>\n",
       "      <td>0.000000</td>\n",
       "    </tr>\n",
       "    <tr>\n",
       "      <th>75%</th>\n",
       "      <td>1.000000</td>\n",
       "      <td>0.000000</td>\n",
       "      <td>161.000000</td>\n",
       "      <td>1.000000</td>\n",
       "      <td>6.00000</td>\n",
       "      <td>3.000000</td>\n",
       "      <td>0.000000</td>\n",
       "      <td>3.000000</td>\n",
       "      <td>2.000000</td>\n",
       "      <td>0.000000</td>\n",
       "    </tr>\n",
       "    <tr>\n",
       "      <th>max</th>\n",
       "      <td>2.000000</td>\n",
       "      <td>2.000000</td>\n",
       "      <td>737.000000</td>\n",
       "      <td>5.000000</td>\n",
       "      <td>6.00000</td>\n",
       "      <td>4.000000</td>\n",
       "      <td>8.000000</td>\n",
       "      <td>10.000000</td>\n",
       "      <td>3.000000</td>\n",
       "      <td>26.000000</td>\n",
       "    </tr>\n",
       "  </tbody>\n",
       "</table>\n",
       "</div>"
      ],
      "text/plain": [
       "       reservation_status   deposit_type      lead_time  \\\n",
       "count       118728.000000  118728.000000  118728.000000   \n",
       "mean             0.648491       0.125472     104.401312   \n",
       "std              0.498197       0.335348     106.915284   \n",
       "min              0.000000       0.000000       0.000000   \n",
       "25%              0.000000       0.000000      18.000000   \n",
       "50%              1.000000       0.000000      70.000000   \n",
       "75%              1.000000       0.000000     161.000000   \n",
       "max              2.000000       2.000000     737.000000   \n",
       "\n",
       "       total_of_special_requests  market_segment  distribution_channel  \\\n",
       "count              118728.000000    118728.00000         118728.000000   \n",
       "mean                    0.571778         4.93534              2.591436   \n",
       "std                     0.792740         1.26070              0.901190   \n",
       "min                     0.000000         0.00000              0.000000   \n",
       "25%                     0.000000         4.00000              3.000000   \n",
       "50%                     0.000000         5.00000              3.000000   \n",
       "75%                     1.000000         6.00000              3.000000   \n",
       "max                     5.000000         6.00000              4.000000   \n",
       "\n",
       "       required_car_parking_spaces  assigned_room_type  customer_type  \\\n",
       "count                118728.000000       118728.000000  118728.000000   \n",
       "mean                      0.061915            1.318729       2.137541   \n",
       "std                       0.244230            1.863332       0.577906   \n",
       "min                       0.000000            0.000000       0.000000   \n",
       "25%                       0.000000            0.000000       2.000000   \n",
       "50%                       0.000000            0.000000       2.000000   \n",
       "75%                       0.000000            3.000000       2.000000   \n",
       "max                       8.000000           10.000000       3.000000   \n",
       "\n",
       "       previous_cancellations  \n",
       "count           118728.000000  \n",
       "mean                 0.087208  \n",
       "std                  0.846419  \n",
       "min                  0.000000  \n",
       "25%                  0.000000  \n",
       "50%                  0.000000  \n",
       "75%                  0.000000  \n",
       "max                 26.000000  "
      ]
     },
     "execution_count": 39,
     "metadata": {},
     "output_type": "execute_result"
    }
   ],
   "source": [
    "hotel_data_imp.describe()"
   ]
  },
  {
   "cell_type": "code",
   "execution_count": 40,
   "id": "360f78f4",
   "metadata": {},
   "outputs": [],
   "source": [
    "X_train_imp,X_test_imp,y_train_imp,y_test_imp = train_test_split(hotel_data_imp,y,train_size=0.8, random_state=42)"
   ]
  },
  {
   "cell_type": "markdown",
   "id": "01383a81",
   "metadata": {},
   "source": [
    "# Machine learning models"
   ]
  },
  {
   "cell_type": "markdown",
   "id": "aac6f09d",
   "metadata": {},
   "source": [
    "### Logistic Regression"
   ]
  },
  {
   "cell_type": "code",
   "execution_count": 41,
   "id": "a00175c1",
   "metadata": {},
   "outputs": [],
   "source": [
    "from sklearn.linear_model import LogisticRegression"
   ]
  },
  {
   "cell_type": "code",
   "execution_count": 42,
   "id": "6e79c929",
   "metadata": {},
   "outputs": [
    {
     "data": {
      "text/plain": [
       "LogisticRegression()"
      ]
     },
     "execution_count": 42,
     "metadata": {},
     "output_type": "execute_result"
    }
   ],
   "source": [
    "log_reg=LogisticRegression()\n",
    "\n",
    "log_reg.fit(X_train_imp,y_train_imp)"
   ]
  },
  {
   "cell_type": "code",
   "execution_count": 43,
   "id": "89417c71",
   "metadata": {},
   "outputs": [],
   "source": [
    "test_pred=log_reg.predict(X_test_imp)\n",
    "train_pred=log_reg.predict(X_train_imp)"
   ]
  },
  {
   "cell_type": "code",
   "execution_count": 44,
   "id": "90f6b5c7",
   "metadata": {},
   "outputs": [
    {
     "data": {
      "text/plain": [
       "array([[14757,    22],\n",
       "       [  241,  8726]], dtype=int64)"
      ]
     },
     "execution_count": 44,
     "metadata": {},
     "output_type": "execute_result"
    }
   ],
   "source": [
    "# Confusion matrix\n",
    "\n",
    "from sklearn.metrics import confusion_matrix\n",
    "\n",
    "confusion_matrix(y_test_imp,test_pred)"
   ]
  },
  {
   "cell_type": "code",
   "execution_count": 45,
   "id": "5a39ff47",
   "metadata": {},
   "outputs": [
    {
     "data": {
      "text/plain": [
       "0.9731236756997881"
      ]
     },
     "execution_count": 45,
     "metadata": {},
     "output_type": "execute_result"
    }
   ],
   "source": [
    "# recall\n",
    "\n",
    "from sklearn.metrics import recall_score\n",
    "\n",
    "recall_score(y_test_imp,test_pred)"
   ]
  },
  {
   "cell_type": "code",
   "execution_count": 46,
   "id": "afa94f1f",
   "metadata": {},
   "outputs": [
    {
     "data": {
      "text/plain": [
       "0.9974851394604481"
      ]
     },
     "execution_count": 46,
     "metadata": {},
     "output_type": "execute_result"
    }
   ],
   "source": [
    "# precision\n",
    "\n",
    "from sklearn.metrics import precision_score\n",
    "\n",
    "precision_score(y_test_imp,test_pred)"
   ]
  },
  {
   "cell_type": "code",
   "execution_count": 47,
   "id": "1845a993",
   "metadata": {},
   "outputs": [
    {
     "name": "stdout",
     "output_type": "stream",
     "text": [
      "0.989197953296414\n",
      "0.9889244504337573\n"
     ]
    }
   ],
   "source": [
    "# accuracy\n",
    "\n",
    "from sklearn.metrics import accuracy_score\n",
    "\n",
    "print(accuracy_score(y_train_imp,train_pred))  # train accuracy\n",
    "print(accuracy_score(y_test_imp,test_pred))  # test accuracy"
   ]
  },
  {
   "cell_type": "code",
   "execution_count": 48,
   "id": "1f88a30a",
   "metadata": {},
   "outputs": [
    {
     "data": {
      "text/plain": [
       "0.9851538244425629"
      ]
     },
     "execution_count": 48,
     "metadata": {},
     "output_type": "execute_result"
    }
   ],
   "source": [
    "# f1-score\n",
    "\n",
    "from sklearn.metrics import f1_score\n",
    "\n",
    "f1_score(y_test_imp,test_pred)"
   ]
  },
  {
   "cell_type": "markdown",
   "id": "30275028",
   "metadata": {},
   "source": [
    "# Decision Tree"
   ]
  },
  {
   "cell_type": "code",
   "execution_count": 49,
   "id": "8442c8f6",
   "metadata": {},
   "outputs": [],
   "source": [
    "from sklearn.tree import DecisionTreeClassifier\n",
    "\n",
    "d_tree=DecisionTreeClassifier(criterion='entropy',max_depth=10)\n",
    "\n",
    "d_tree.fit(X_train_imp,y_train_imp)\n",
    "\n",
    "d_tree_test_pred=d_tree.predict(X_test_imp)\n",
    "d_tree_train_pred=d_tree.predict(X_train_imp)"
   ]
  },
  {
   "cell_type": "code",
   "execution_count": 50,
   "id": "309f6cc7",
   "metadata": {},
   "outputs": [
    {
     "data": {
      "text/plain": [
       "array([[14779,     0],\n",
       "       [    0,  8967]], dtype=int64)"
      ]
     },
     "execution_count": 50,
     "metadata": {},
     "output_type": "execute_result"
    }
   ],
   "source": [
    "# confusion matrix\n",
    "\n",
    "from sklearn.metrics import confusion_matrix\n",
    "\n",
    "confusion_matrix(y_test_imp,d_tree_test_pred)"
   ]
  },
  {
   "cell_type": "code",
   "execution_count": 51,
   "id": "8469c149",
   "metadata": {},
   "outputs": [
    {
     "data": {
      "text/plain": [
       "1.0"
      ]
     },
     "execution_count": 51,
     "metadata": {},
     "output_type": "execute_result"
    }
   ],
   "source": [
    "from sklearn.metrics import recall_score\n",
    "\n",
    "recall_score(y_test_imp,d_tree_test_pred)"
   ]
  },
  {
   "cell_type": "code",
   "execution_count": 52,
   "id": "26532dba",
   "metadata": {},
   "outputs": [
    {
     "data": {
      "text/plain": [
       "1.0"
      ]
     },
     "execution_count": 52,
     "metadata": {},
     "output_type": "execute_result"
    }
   ],
   "source": [
    "from sklearn.metrics import f1_score \n",
    "\n",
    "f1_score(y_test_imp,d_tree_test_pred)"
   ]
  },
  {
   "cell_type": "code",
   "execution_count": 53,
   "id": "a920aec5",
   "metadata": {},
   "outputs": [
    {
     "name": "stdout",
     "output_type": "stream",
     "text": [
      "1.0\n",
      "1.0\n"
     ]
    }
   ],
   "source": [
    "from sklearn.metrics import accuracy_score\n",
    "\n",
    "print(accuracy_score(y_train_imp,d_tree_train_pred)) # Train accuracy\n",
    "print(accuracy_score(y_test_imp,d_tree_test_pred)) # Test accuracy"
   ]
  },
  {
   "cell_type": "markdown",
   "id": "b14dbfec",
   "metadata": {},
   "source": [
    "# Random forest"
   ]
  },
  {
   "cell_type": "code",
   "execution_count": 54,
   "id": "499a3398",
   "metadata": {},
   "outputs": [],
   "source": [
    "from sklearn.ensemble import RandomForestClassifier\n",
    "\n",
    "rf_c=RandomForestClassifier(n_estimators=80)\n",
    "\n",
    "rf_c.fit(X_train_imp,y_train_imp)\n",
    "rf_test_pred=rf_c.predict(X_test_imp)\n",
    "rf_train_pred=rf_c.predict(X_train_imp)\n"
   ]
  },
  {
   "cell_type": "code",
   "execution_count": 55,
   "id": "bd799c7a",
   "metadata": {},
   "outputs": [
    {
     "data": {
      "text/plain": [
       "array([[14779,     0],\n",
       "       [    0,  8967]], dtype=int64)"
      ]
     },
     "execution_count": 55,
     "metadata": {},
     "output_type": "execute_result"
    }
   ],
   "source": [
    "# confusion matrix\n",
    "\n",
    "from sklearn.metrics import confusion_matrix\n",
    "\n",
    "confusion_matrix(y_test_imp,rf_test_pred)"
   ]
  },
  {
   "cell_type": "code",
   "execution_count": 56,
   "id": "009bf420",
   "metadata": {},
   "outputs": [
    {
     "data": {
      "text/plain": [
       "1.0"
      ]
     },
     "execution_count": 56,
     "metadata": {},
     "output_type": "execute_result"
    }
   ],
   "source": [
    "from sklearn.metrics import recall_score\n",
    "\n",
    "recall_score(y_test_imp,rf_test_pred)"
   ]
  },
  {
   "cell_type": "code",
   "execution_count": 57,
   "id": "583876d7",
   "metadata": {},
   "outputs": [
    {
     "data": {
      "text/plain": [
       "1.0"
      ]
     },
     "execution_count": 57,
     "metadata": {},
     "output_type": "execute_result"
    }
   ],
   "source": [
    "from sklearn.metrics import f1_score \n",
    "\n",
    "f1_score(y_test_imp,rf_test_pred)"
   ]
  },
  {
   "cell_type": "code",
   "execution_count": 58,
   "id": "7b244979",
   "metadata": {},
   "outputs": [
    {
     "name": "stdout",
     "output_type": "stream",
     "text": [
      "Train Score: 1.0\n",
      "Test Score: 1.0\n"
     ]
    }
   ],
   "source": [
    "from sklearn.metrics import accuracy_score\n",
    "\n",
    "print('Train Score:',accuracy_score(y_train_imp,rf_train_pred))\n",
    "print('Test Score:',accuracy_score(y_test_imp,rf_test_pred))"
   ]
  },
  {
   "cell_type": "code",
   "execution_count": 59,
   "id": "c80cc86f",
   "metadata": {},
   "outputs": [
    {
     "name": "stdout",
     "output_type": "stream",
     "text": [
      "            Classifier  Accuracy  Precision    Recall  F1 Score\n",
      "0  Logistic Regression  0.988924   0.989049  0.988924  0.988897\n",
      "1        Decision Tree  1.000000   1.000000  1.000000  1.000000\n",
      "2        Random Forest  1.000000   1.000000  1.000000  1.000000\n"
     ]
    }
   ],
   "source": [
    "from sklearn.metrics import accuracy_score, precision_score, recall_score, f1_score\n",
    "from sklearn.metrics import accuracy_score, classification_report\n",
    "\n",
    "# Assuming you have features X and labels y\n",
    "\n",
    "\n",
    "classifiers = {'Logistic Regression': log_reg,\n",
    "               'Decision Tree': d_tree,\n",
    "               'Random Forest': rf_c}\n",
    "\n",
    "# Create a DataFrame to store the results\n",
    "results_df = pd.DataFrame(columns=['Classifier', 'Accuracy', 'Precision', 'Recall', 'F1 Score'])\n",
    "\n",
    "# Loop through each classifier\n",
    "for clf_name, clf in classifiers.items():\n",
    "    # Train the classifier\n",
    "    clf.fit(X_train_imp, y_train_imp)\n",
    "    \n",
    "    # Make predictions\n",
    "    y_pred = clf.predict(X_test_imp)\n",
    "    \n",
    "    # Calculate accuracy\n",
    "    accuracy = accuracy_score(y_test_imp, y_pred)\n",
    "    \n",
    "    # Generate classification report\n",
    "    report = classification_report(y_test_imp, y_pred, output_dict=True)\n",
    "    \n",
    "    # Extract precision, recall, and F1 score for each class\n",
    "    precision = report['weighted avg']['precision']\n",
    "    recall = report['weighted avg']['recall']\n",
    "    f1 = report['weighted avg']['f1-score']\n",
    "    \n",
    "    # Add results to the DataFrame\n",
    "    results_df = results_df.append({'Classifier': clf_name,\n",
    "                                    'Accuracy': accuracy,\n",
    "                                    'Precision': precision,\n",
    "                                    'Recall': recall,\n",
    "                                    'F1 Score': f1},\n",
    "                                   ignore_index=True)\n",
    "\n",
    "# Print the results DataFrame\n",
    "print(results_df)"
   ]
  },
  {
   "cell_type": "code",
   "execution_count": null,
   "id": "9cdc9d62",
   "metadata": {},
   "outputs": [],
   "source": []
  }
 ],
 "metadata": {
  "kernelspec": {
   "display_name": "Python 3 (ipykernel)",
   "language": "python",
   "name": "python3"
  },
  "language_info": {
   "codemirror_mode": {
    "name": "ipython",
    "version": 3
   },
   "file_extension": ".py",
   "mimetype": "text/x-python",
   "name": "python",
   "nbconvert_exporter": "python",
   "pygments_lexer": "ipython3",
   "version": "3.9.7"
  }
 },
 "nbformat": 4,
 "nbformat_minor": 5
}
